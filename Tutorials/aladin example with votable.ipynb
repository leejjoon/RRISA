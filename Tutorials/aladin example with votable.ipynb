{
 "cells": [
  {
   "cell_type": "code",
   "execution_count": 1,
   "id": "5d2ae7e7",
   "metadata": {},
   "outputs": [],
   "source": [
    "import ipyaladin\n"
   ]
  },
  {
   "cell_type": "code",
   "execution_count": 2,
   "id": "b8a04491",
   "metadata": {},
   "outputs": [
    {
     "data": {
      "application/vnd.jupyter.widget-view+json": {
       "model_id": "896a14152fce4fbfa446c2f1439dc8ab",
       "version_major": 2,
       "version_minor": 0
      },
      "text/plain": [
       "Aladin(fov=180.0, options=['allow_full_zoomout', 'coo_frame', 'fov', 'full_screen', 'log', 'overlay_survey', '…"
      ]
     },
     "metadata": {},
     "output_type": "display_data"
    }
   ],
   "source": [
    "aladin = ipyaladin.Aladin(fov= 180, survey=\"P/2MASS/color\")\n",
    "aladin\n"
   ]
  },
  {
   "cell_type": "code",
   "execution_count": 3,
   "id": "db68148b",
   "metadata": {},
   "outputs": [],
   "source": [
    "# Load RRISA table as a votable. This may take several seconds.\n",
    "votable_url =\"https://github.com/leejjoon/RRISA/releases/download/v202206-alpha.1/rrisa_votable.xml\"\n",
    "aladin.add_catalog_from_URL(votable_url,\n",
    "                            votable_options={'onClick': 'showTable', 'sourceSize': 20, 'color': 'red'})\n",
    "    "
   ]
  },
  {
   "cell_type": "code",
   "execution_count": 4,
   "id": "f249ac99",
   "metadata": {},
   "outputs": [],
   "source": [
    "aladin.target = \"332.96220833333325 50.89930555555557\"\n",
    "aladin.fov = 5/60."
   ]
  },
  {
   "cell_type": "code",
   "execution_count": 7,
   "id": "4ffc9b2b",
   "metadata": {},
   "outputs": [],
   "source": [
    "aladin.target = \"P Cyg\"\n",
    "aladin.fov = 5/60."
   ]
  },
  {
   "cell_type": "code",
   "execution_count": null,
   "id": "a103c0cd",
   "metadata": {},
   "outputs": [],
   "source": []
  }
 ],
 "metadata": {
  "kernelspec": {
   "display_name": "Python 3 (ipykernel)",
   "language": "python",
   "name": "python3"
  },
  "language_info": {
   "codemirror_mode": {
    "name": "ipython",
    "version": 3
   },
   "file_extension": ".py",
   "mimetype": "text/x-python",
   "name": "python",
   "nbconvert_exporter": "python",
   "pygments_lexer": "ipython3",
   "version": "3.9.2"
  }
 },
 "nbformat": 4,
 "nbformat_minor": 5
}
