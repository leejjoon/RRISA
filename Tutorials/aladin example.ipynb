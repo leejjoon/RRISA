{
 "cells": [
  {
   "cell_type": "code",
   "execution_count": 1,
   "id": "5d2ae7e7",
   "metadata": {},
   "outputs": [],
   "source": [
    "import ipyaladin\n"
   ]
  },
  {
   "cell_type": "code",
   "execution_count": 2,
   "id": "46c35f1e",
   "metadata": {},
   "outputs": [],
   "source": [
    "import pandas as pd\n",
    "from astropy.table import QTable"
   ]
  },
  {
   "cell_type": "code",
   "execution_count": 3,
   "id": "95268811",
   "metadata": {},
   "outputs": [],
   "source": [
    "fn = '../RRISA_XMatch/xmatch_log.csv'\n",
    "df0 : pd.DataFrame = pd.read_csv(fn)\n"
   ]
  },
  {
   "cell_type": "code",
   "execution_count": 4,
   "id": "14a554c4",
   "metadata": {},
   "outputs": [],
   "source": [
    "df = (df0[[\"NAME\", \"RA.2000\", \"DEC.2000\"]]\n",
    "    .rename({\"RA.2000\": \"ra\", \"DEC.2000\": \"dec\", \"NAME\": \"name\"}, axis=1))"
   ]
  },
  {
   "cell_type": "code",
   "execution_count": 6,
   "id": "c2220c89",
   "metadata": {},
   "outputs": [],
   "source": [
    "tbl = QTable.from_pandas(df)\n"
   ]
  },
  {
   "cell_type": "code",
   "execution_count": 7,
   "id": "26311ea5",
   "metadata": {},
   "outputs": [
    {
     "data": {
      "text/html": [
       "<div><i>QTable length=11804</i>\n",
       "<table id=\"table140600040734576\" class=\"table-striped table-bordered table-condensed\">\n",
       "<thead><tr><th>name</th><th>ra</th><th>dec</th><th>RRISA_INDEX</th></tr></thead>\n",
       "<thead><tr><th>str33</th><th>float64</th><th>float64</th><th>int64</th></tr></thead>\n",
       "<tr><td>* mu.02 Her</td><td>266.77137500000003</td><td>27.727027777777767</td><td>0</td></tr>\n",
       "<tr><td>* alf Lyr</td><td>279.39366666666666</td><td>38.804666666666655</td><td>1</td></tr>\n",
       "<tr><td>HD 164595B</td><td>270.3532916666666</td><td>29.58163888888889</td><td>2</td></tr>\n",
       "<tr><td>BD+31  3330B</td><td>280.38920833333333</td><td>31.558805555555555</td><td>3</td></tr>\n",
       "<tr><td>L 1288-4</td><td>310.3649999999999</td><td>19.95844444444444</td><td>4</td></tr>\n",
       "<tr><td>HD 192538</td><td>303.682</td><td>36.6475</td><td>5</td></tr>\n",
       "<tr><td>...</td><td>...</td><td>...</td><td>...</td></tr>\n",
       "<tr><td>LP  563-39</td><td>236.51882916666665</td><td>4.689983333333333</td><td>11797</td></tr>\n",
       "<tr><td>LP  563-39</td><td>236.51834166666663</td><td>4.690433333333334</td><td>11798</td></tr>\n",
       "<tr><td>HD 142930</td><td>239.3119333333333</td><td>3.4048</td><td>11799</td></tr>\n",
       "<tr><td>[PGZ2001] J160900.7-190852</td><td>242.2527416666666</td><td>-19.148819444444445</td><td>11800</td></tr>\n",
       "<tr><td>HD 145718</td><td>243.2988833333333</td><td>-22.48511944444445</td><td>11801</td></tr>\n",
       "<tr><td>2MASS J16225985-2326348</td><td>245.74865</td><td>-23.443822222222234</td><td>11802</td></tr>\n",
       "<tr><td>HD 147384</td><td>245.6520583333333</td><td>-24.38389166666667</td><td>11803</td></tr>\n",
       "</table></div>"
      ],
      "text/plain": [
       "<QTable length=11804>\n",
       "           name                    ra                 dec         RRISA_INDEX\n",
       "          str33                 float64             float64          int64   \n",
       "-------------------------- ------------------ ------------------- -----------\n",
       "               * mu.02 Her 266.77137500000003  27.727027777777767           0\n",
       "                 * alf Lyr 279.39366666666666  38.804666666666655           1\n",
       "                HD 164595B  270.3532916666666   29.58163888888889           2\n",
       "              BD+31  3330B 280.38920833333333  31.558805555555555           3\n",
       "                  L 1288-4  310.3649999999999   19.95844444444444           4\n",
       "                 HD 192538            303.682             36.6475           5\n",
       "                       ...                ...                 ...         ...\n",
       "                LP  563-39 236.51882916666665   4.689983333333333       11797\n",
       "                LP  563-39 236.51834166666663   4.690433333333334       11798\n",
       "                 HD 142930  239.3119333333333              3.4048       11799\n",
       "[PGZ2001] J160900.7-190852  242.2527416666666 -19.148819444444445       11800\n",
       "                 HD 145718  243.2988833333333  -22.48511944444445       11801\n",
       "   2MASS J16225985-2326348          245.74865 -23.443822222222234       11802\n",
       "                 HD 147384  245.6520583333333  -24.38389166666667       11803"
      ]
     },
     "execution_count": 7,
     "metadata": {},
     "output_type": "execute_result"
    }
   ],
   "source": [
    "tbl[\"RRISA_INDEX\"] = df.index\n",
    "tbl\n"
   ]
  },
  {
   "cell_type": "code",
   "execution_count": 8,
   "id": "bec83c40",
   "metadata": {
    "scrolled": false
   },
   "outputs": [
    {
     "data": {
      "application/vnd.jupyter.widget-view+json": {
       "model_id": "527af57fa35d45879fba96fb4519b58f",
       "version_major": 2,
       "version_minor": 0
      },
      "text/plain": [
       "Aladin(coo_frame='galactic', fov=180.0, options=['allow_full_zoomout', 'coo_frame', 'fov', 'full_screen', 'log…"
      ]
     },
     "metadata": {},
     "output_type": "display_data"
    }
   ],
   "source": [
    "aladin = ipyaladin.Aladin(fov= 180, coo_frame= 'galactic', survey=\"P/2MASS/color\")\n",
    "aladin\n"
   ]
  },
  {
   "cell_type": "code",
   "execution_count": 9,
   "id": "dbf38ef4",
   "metadata": {},
   "outputs": [
    {
     "name": "stderr",
     "output_type": "stream",
     "text": [
      "/home/jjlee/miniconda3/envs/dev3/lib/python3.9/site-packages/jupyter_client/session.py:716: UserWarning: Message serialization failed with:\n",
      "Out of range float values are not JSON compliant\n",
      "Supporting this message is deprecated in jupyter-client 7, please make sure your message is JSON-compliant\n",
      "  content = self.pack(content)\n"
     ]
    }
   ],
   "source": [
    "aladin.add_table(tbl)\n"
   ]
  },
  {
   "cell_type": "code",
   "execution_count": null,
   "id": "bea36e64",
   "metadata": {},
   "outputs": [],
   "source": []
  }
 ],
 "metadata": {
  "kernelspec": {
   "display_name": "Python 3 (ipykernel)",
   "language": "python",
   "name": "python3"
  },
  "language_info": {
   "codemirror_mode": {
    "name": "ipython",
    "version": 3
   },
   "file_extension": ".py",
   "mimetype": "text/x-python",
   "name": "python",
   "nbconvert_exporter": "python",
   "pygments_lexer": "ipython3",
   "version": "3.9.2"
  }
 },
 "nbformat": 4,
 "nbformat_minor": 5
}
